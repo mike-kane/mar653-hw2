{
 "cells": [
  {
   "cell_type": "code",
   "execution_count": 1,
   "metadata": {},
   "outputs": [
    {
     "name": "stderr",
     "output_type": "stream",
     "text": [
      "Using TensorFlow backend.\n"
     ]
    }
   ],
   "source": [
    "import pandas as pd\n",
    "pd.options.display.max_columns = 100\n",
    "import numpy as np\n",
    "import matplotlib.pyplot as plt\n",
    "%matplotlib inline\n",
    "from sklearn.linear_model import LogisticRegression\n",
    "from sklearn.ensemble import RandomForestClassifier, GradientBoostingClassifier\n",
    "from sklearn.metrics import accuracy_score, f1_score, classification_report\n",
    "import keras\n",
    "from keras.models import Sequential\n",
    "from keras.layers import Dense"
   ]
  },
  {
   "cell_type": "code",
   "execution_count": 2,
   "metadata": {},
   "outputs": [
    {
     "data": {
      "text/html": [
       "<div>\n",
       "<style scoped>\n",
       "    .dataframe tbody tr th:only-of-type {\n",
       "        vertical-align: middle;\n",
       "    }\n",
       "\n",
       "    .dataframe tbody tr th {\n",
       "        vertical-align: top;\n",
       "    }\n",
       "\n",
       "    .dataframe thead th {\n",
       "        text-align: right;\n",
       "    }\n",
       "</style>\n",
       "<table border=\"1\" class=\"dataframe\">\n",
       "  <thead>\n",
       "    <tr style=\"text-align: right;\">\n",
       "      <th></th>\n",
       "      <th>custid</th>\n",
       "      <th>retained</th>\n",
       "      <th>created</th>\n",
       "      <th>firstorder</th>\n",
       "      <th>lastorder</th>\n",
       "      <th>esent</th>\n",
       "      <th>eopenrate</th>\n",
       "      <th>eclickrate</th>\n",
       "      <th>avgorder</th>\n",
       "      <th>ordfreq</th>\n",
       "      <th>paperless</th>\n",
       "      <th>refill</th>\n",
       "      <th>doorstep</th>\n",
       "      <th>train</th>\n",
       "      <th>favday</th>\n",
       "      <th>city</th>\n",
       "    </tr>\n",
       "  </thead>\n",
       "  <tbody>\n",
       "    <tr>\n",
       "      <th>0</th>\n",
       "      <td>6H6T6N</td>\n",
       "      <td>0</td>\n",
       "      <td>2012-09-28</td>\n",
       "      <td>2013-08-11 00:00:00</td>\n",
       "      <td>2013-08-11 00:00:00</td>\n",
       "      <td>29</td>\n",
       "      <td>100.000000</td>\n",
       "      <td>3.448276</td>\n",
       "      <td>14.52</td>\n",
       "      <td>0.000000</td>\n",
       "      <td>0</td>\n",
       "      <td>0</td>\n",
       "      <td>0</td>\n",
       "      <td>1</td>\n",
       "      <td>Monday</td>\n",
       "      <td>CHO</td>\n",
       "    </tr>\n",
       "    <tr>\n",
       "      <th>1</th>\n",
       "      <td>APCENR</td>\n",
       "      <td>1</td>\n",
       "      <td>2010-12-19</td>\n",
       "      <td>2011-04-01 00:00:00</td>\n",
       "      <td>2014-01-19 00:00:00</td>\n",
       "      <td>95</td>\n",
       "      <td>92.631579</td>\n",
       "      <td>10.526316</td>\n",
       "      <td>83.69</td>\n",
       "      <td>0.181641</td>\n",
       "      <td>1</td>\n",
       "      <td>1</td>\n",
       "      <td>1</td>\n",
       "      <td>1</td>\n",
       "      <td>Friday</td>\n",
       "      <td>CHO</td>\n",
       "    </tr>\n",
       "    <tr>\n",
       "      <th>2</th>\n",
       "      <td>7UP6MS</td>\n",
       "      <td>0</td>\n",
       "      <td>2010-10-03</td>\n",
       "      <td>2010-12-01 00:00:00</td>\n",
       "      <td>2011-07-06 00:00:00</td>\n",
       "      <td>0</td>\n",
       "      <td>0.000000</td>\n",
       "      <td>0.000000</td>\n",
       "      <td>33.58</td>\n",
       "      <td>0.059908</td>\n",
       "      <td>0</td>\n",
       "      <td>0</td>\n",
       "      <td>0</td>\n",
       "      <td>1</td>\n",
       "      <td>Wednesday</td>\n",
       "      <td>CHO</td>\n",
       "    </tr>\n",
       "    <tr>\n",
       "      <th>3</th>\n",
       "      <td>7ZEW8G</td>\n",
       "      <td>0</td>\n",
       "      <td>2010-10-22</td>\n",
       "      <td>2011-03-28 00:00:00</td>\n",
       "      <td>2011-03-28 00:00:00</td>\n",
       "      <td>0</td>\n",
       "      <td>0.000000</td>\n",
       "      <td>0.000000</td>\n",
       "      <td>54.96</td>\n",
       "      <td>0.000000</td>\n",
       "      <td>0</td>\n",
       "      <td>0</td>\n",
       "      <td>0</td>\n",
       "      <td>1</td>\n",
       "      <td>Thursday</td>\n",
       "      <td>RIC</td>\n",
       "    </tr>\n",
       "    <tr>\n",
       "      <th>4</th>\n",
       "      <td>8V726M</td>\n",
       "      <td>1</td>\n",
       "      <td>2010-11-27</td>\n",
       "      <td>2010-11-29 00:00:00</td>\n",
       "      <td>2013-01-28 00:00:00</td>\n",
       "      <td>30</td>\n",
       "      <td>90.000000</td>\n",
       "      <td>13.333333</td>\n",
       "      <td>111.91</td>\n",
       "      <td>0.008850</td>\n",
       "      <td>0</td>\n",
       "      <td>0</td>\n",
       "      <td>0</td>\n",
       "      <td>1</td>\n",
       "      <td>Monday</td>\n",
       "      <td>RIC</td>\n",
       "    </tr>\n",
       "  </tbody>\n",
       "</table>\n",
       "</div>"
      ],
      "text/plain": [
       "   custid  retained    created           firstorder            lastorder  \\\n",
       "0  6H6T6N         0 2012-09-28  2013-08-11 00:00:00  2013-08-11 00:00:00   \n",
       "1  APCENR         1 2010-12-19  2011-04-01 00:00:00  2014-01-19 00:00:00   \n",
       "2  7UP6MS         0 2010-10-03  2010-12-01 00:00:00  2011-07-06 00:00:00   \n",
       "3  7ZEW8G         0 2010-10-22  2011-03-28 00:00:00  2011-03-28 00:00:00   \n",
       "4  8V726M         1 2010-11-27  2010-11-29 00:00:00  2013-01-28 00:00:00   \n",
       "\n",
       "   esent   eopenrate  eclickrate  avgorder   ordfreq  paperless  refill  \\\n",
       "0     29  100.000000    3.448276     14.52  0.000000          0       0   \n",
       "1     95   92.631579   10.526316     83.69  0.181641          1       1   \n",
       "2      0    0.000000    0.000000     33.58  0.059908          0       0   \n",
       "3      0    0.000000    0.000000     54.96  0.000000          0       0   \n",
       "4     30   90.000000   13.333333    111.91  0.008850          0       0   \n",
       "\n",
       "   doorstep  train     favday city  \n",
       "0         0      1     Monday  CHO  \n",
       "1         1      1     Friday  CHO  \n",
       "2         0      1  Wednesday  CHO  \n",
       "3         0      1   Thursday  RIC  \n",
       "4         0      1     Monday  RIC  "
      ]
     },
     "execution_count": 2,
     "metadata": {},
     "output_type": "execute_result"
    }
   ],
   "source": [
    "train_df_raw = pd.read_excel('relaytrain_2_2_2_2_2.xlsx')\n",
    "test_df_raw = pd.read_excel('relaytest_2_2_2_2_2.xlsx')\n",
    "train_df_raw.head()"
   ]
  },
  {
   "cell_type": "code",
   "execution_count": 3,
   "metadata": {},
   "outputs": [],
   "source": [
    "# Store labels separately from training data\n",
    "train_labels = train_df_raw['retained']\n",
    "test_labels = test_df_raw['retained']"
   ]
  },
  {
   "cell_type": "code",
   "execution_count": 4,
   "metadata": {},
   "outputs": [],
   "source": [
    "# Remove labels from training data\n",
    "train_df = train_df_raw.drop('retained', axis=1, inplace=False)\n",
    "test_df = test_df_raw.drop('retained', axis=1, inplace=False)"
   ]
  },
  {
   "cell_type": "markdown",
   "metadata": {},
   "source": [
    "# Step 1: Data Exploration\n",
    "\n",
    "Questions:\n",
    "\n",
    "* What is the cardinality of city?\n",
    "* What is the cardinality of custid? Does custid matter (e.g. repeat customers?)\n",
    "* What is the ratio of customers retained to customers lost?\n",
    "* Which columns correlate the most with our target?\n",
    "* Is there any multicollinearity in our dataset?\n",
    "* Do the dates matter? How can we transform these so that we can use them in our model?"
   ]
  },
  {
   "cell_type": "code",
   "execution_count": 5,
   "metadata": {},
   "outputs": [
    {
     "data": {
      "text/plain": [
       "<matplotlib.axes._subplots.AxesSubplot at 0x1f0568d9dd8>"
      ]
     },
     "execution_count": 5,
     "metadata": {},
     "output_type": "execute_result"
    },
    {
     "data": {
      "image/png": "[encoded data removed]",
      "text/plain": [
       "<matplotlib.figure.Figure at 0x1f04dc62b38>"
      ]
     },
     "metadata": {},
     "output_type": "display_data"
    }
   ],
   "source": [
    "train_df.city.hist()"
   ]
  },
  {
   "cell_type": "code",
   "execution_count": 6,
   "metadata": {},
   "outputs": [
    {
     "data": {
      "text/plain": [
       "<matplotlib.axes._subplots.AxesSubplot at 0x1f056a755c0>"
      ]
     },
     "execution_count": 6,
     "metadata": {},
     "output_type": "execute_result"
    },
    {
     "data": {
      "image/png": "[encoded data removed]",
      "text/plain": [
       "<matplotlib.figure.Figure at 0x1f05021ccf8>"
      ]
     },
     "metadata": {},
     "output_type": "display_data"
    }
   ],
   "source": [
    "train_labels.hist()"
   ]
  },
  {
   "cell_type": "code",
   "execution_count": 7,
   "metadata": {},
   "outputs": [
    {
     "data": {
      "text/plain": [
       "<matplotlib.axes._subplots.AxesSubplot at 0x1f056b85c18>"
      ]
     },
     "execution_count": 7,
     "metadata": {},
     "output_type": "execute_result"
    },
    {
     "data": {
      "image/png": "[encoded data removed]",
      "text/plain": [
       "<matplotlib.figure.Figure at 0x1f056bdef98>"
      ]
     },
     "metadata": {},
     "output_type": "display_data"
    }
   ],
   "source": [
    "test_labels.hist()"
   ]
  },
  {
   "cell_type": "markdown",
   "metadata": {},
   "source": [
    "### Class Imbalance!\n",
    "\n",
    "Our labels have a large class imbalance. Customers lost represent only 25% of our data in both our training and testing sets. We need to balance this using stratified K-Fold Cross Validation, or through Naive Oversampling. "
   ]
  },
  {
   "cell_type": "code",
   "execution_count": 26,
   "metadata": {},
   "outputs": [
    {
     "data": {
      "text/html": [
       "<div>\n",
       "<style scoped>\n",
       "    .dataframe tbody tr th:only-of-type {\n",
       "        vertical-align: middle;\n",
       "    }\n",
       "\n",
       "    .dataframe tbody tr th {\n",
       "        vertical-align: top;\n",
       "    }\n",
       "\n",
       "    .dataframe thead th {\n",
       "        text-align: right;\n",
       "    }\n",
       "</style>\n",
       "<table border=\"1\" class=\"dataframe\">\n",
       "  <thead>\n",
       "    <tr style=\"text-align: right;\">\n",
       "      <th></th>\n",
       "      <th>esent</th>\n",
       "      <th>eopenrate</th>\n",
       "      <th>eclickrate</th>\n",
       "      <th>avgorder</th>\n",
       "      <th>ordfreq</th>\n",
       "      <th>paperless</th>\n",
       "      <th>refill</th>\n",
       "      <th>doorstep</th>\n",
       "      <th>favday_Friday</th>\n",
       "      <th>favday_Monday</th>\n",
       "      <th>favday_Saturday</th>\n",
       "      <th>favday_Sunday</th>\n",
       "      <th>favday_Thursday</th>\n",
       "      <th>favday_Tuesday</th>\n",
       "      <th>favday_Wednesday</th>\n",
       "      <th>city_BWI</th>\n",
       "      <th>city_CHO</th>\n",
       "      <th>city_DCX</th>\n",
       "      <th>city_RIC</th>\n",
       "    </tr>\n",
       "  </thead>\n",
       "  <tbody>\n",
       "    <tr>\n",
       "      <th>0</th>\n",
       "      <td>29</td>\n",
       "      <td>100.000000</td>\n",
       "      <td>3.448276</td>\n",
       "      <td>14.52</td>\n",
       "      <td>0.000000</td>\n",
       "      <td>0</td>\n",
       "      <td>0</td>\n",
       "      <td>0</td>\n",
       "      <td>0</td>\n",
       "      <td>1</td>\n",
       "      <td>0</td>\n",
       "      <td>0</td>\n",
       "      <td>0</td>\n",
       "      <td>0</td>\n",
       "      <td>0</td>\n",
       "      <td>0</td>\n",
       "      <td>1</td>\n",
       "      <td>0</td>\n",
       "      <td>0</td>\n",
       "    </tr>\n",
       "    <tr>\n",
       "      <th>1</th>\n",
       "      <td>95</td>\n",
       "      <td>92.631579</td>\n",
       "      <td>10.526316</td>\n",
       "      <td>83.69</td>\n",
       "      <td>0.181641</td>\n",
       "      <td>1</td>\n",
       "      <td>1</td>\n",
       "      <td>1</td>\n",
       "      <td>1</td>\n",
       "      <td>0</td>\n",
       "      <td>0</td>\n",
       "      <td>0</td>\n",
       "      <td>0</td>\n",
       "      <td>0</td>\n",
       "      <td>0</td>\n",
       "      <td>0</td>\n",
       "      <td>1</td>\n",
       "      <td>0</td>\n",
       "      <td>0</td>\n",
       "    </tr>\n",
       "    <tr>\n",
       "      <th>2</th>\n",
       "      <td>0</td>\n",
       "      <td>0.000000</td>\n",
       "      <td>0.000000</td>\n",
       "      <td>33.58</td>\n",
       "      <td>0.059908</td>\n",
       "      <td>0</td>\n",
       "      <td>0</td>\n",
       "      <td>0</td>\n",
       "      <td>0</td>\n",
       "      <td>0</td>\n",
       "      <td>0</td>\n",
       "      <td>0</td>\n",
       "      <td>0</td>\n",
       "      <td>0</td>\n",
       "      <td>1</td>\n",
       "      <td>0</td>\n",
       "      <td>1</td>\n",
       "      <td>0</td>\n",
       "      <td>0</td>\n",
       "    </tr>\n",
       "    <tr>\n",
       "      <th>3</th>\n",
       "      <td>0</td>\n",
       "      <td>0.000000</td>\n",
       "      <td>0.000000</td>\n",
       "      <td>54.96</td>\n",
       "      <td>0.000000</td>\n",
       "      <td>0</td>\n",
       "      <td>0</td>\n",
       "      <td>0</td>\n",
       "      <td>0</td>\n",
       "      <td>0</td>\n",
       "      <td>0</td>\n",
       "      <td>0</td>\n",
       "      <td>1</td>\n",
       "      <td>0</td>\n",
       "      <td>0</td>\n",
       "      <td>0</td>\n",
       "      <td>0</td>\n",
       "      <td>0</td>\n",
       "      <td>1</td>\n",
       "    </tr>\n",
       "    <tr>\n",
       "      <th>4</th>\n",
       "      <td>30</td>\n",
       "      <td>90.000000</td>\n",
       "      <td>13.333333</td>\n",
       "      <td>111.91</td>\n",
       "      <td>0.008850</td>\n",
       "      <td>0</td>\n",
       "      <td>0</td>\n",
       "      <td>0</td>\n",
       "      <td>0</td>\n",
       "      <td>1</td>\n",
       "      <td>0</td>\n",
       "      <td>0</td>\n",
       "      <td>0</td>\n",
       "      <td>0</td>\n",
       "      <td>0</td>\n",
       "      <td>0</td>\n",
       "      <td>0</td>\n",
       "      <td>0</td>\n",
       "      <td>1</td>\n",
       "    </tr>\n",
       "  </tbody>\n",
       "</table>\n",
       "</div>"
      ],
      "text/plain": [
       "   esent   eopenrate  eclickrate  avgorder   ordfreq  paperless  refill  \\\n",
       "0     29  100.000000    3.448276     14.52  0.000000          0       0   \n",
       "1     95   92.631579   10.526316     83.69  0.181641          1       1   \n",
       "2      0    0.000000    0.000000     33.58  0.059908          0       0   \n",
       "3      0    0.000000    0.000000     54.96  0.000000          0       0   \n",
       "4     30   90.000000   13.333333    111.91  0.008850          0       0   \n",
       "\n",
       "   doorstep  favday_Friday  favday_Monday  favday_Saturday  favday_Sunday  \\\n",
       "0         0              0              1                0              0   \n",
       "1         1              1              0                0              0   \n",
       "2         0              0              0                0              0   \n",
       "3         0              0              0                0              0   \n",
       "4         0              0              1                0              0   \n",
       "\n",
       "   favday_Thursday  favday_Tuesday  favday_Wednesday  city_BWI  city_CHO  \\\n",
       "0                0               0                 0         0         1   \n",
       "1                0               0                 0         0         1   \n",
       "2                0               0                 1         0         1   \n",
       "3                1               0                 0         0         0   \n",
       "4                0               0                 0         0         0   \n",
       "\n",
       "   city_DCX  city_RIC  \n",
       "0         0         0  \n",
       "1         0         0  \n",
       "2         0         0  \n",
       "3         0         1  \n",
       "4         0         1  "
      ]
     },
     "execution_count": 26,
     "metadata": {},
     "output_type": "execute_result"
    }
   ],
   "source": [
    "one_hot_train_df = pd.get_dummies(train_df.drop(['custid', 'train', 'created', 'firstorder', 'lastorder'], axis=1))\n",
    "one_hot_test_df = pd.get_dummies(test_df.drop(['custid', 'train', 'created', 'firstorder', 'lastorder'], axis=1))\n",
    "one_hot_train_df.head()"
   ]
  },
  {
   "cell_type": "code",
   "execution_count": 34,
   "metadata": {},
   "outputs": [
    {
     "name": "stdout",
     "output_type": "stream",
     "text": [
      "<class 'pandas.core.frame.DataFrame'>\n",
      "RangeIndex: 24579 entries, 0 to 24578\n",
      "Data columns (total 19 columns):\n",
      "esent               24579 non-null int64\n",
      "eopenrate           24579 non-null float64\n",
      "eclickrate          24579 non-null float64\n",
      "avgorder            24579 non-null float64\n",
      "ordfreq             24579 non-null float64\n",
      "paperless           24579 non-null int64\n",
      "refill              24579 non-null int64\n",
      "doorstep            24579 non-null int64\n",
      "favday_Friday       24579 non-null uint8\n",
      "favday_Monday       24579 non-null uint8\n",
      "favday_Saturday     24579 non-null uint8\n",
      "favday_Sunday       24579 non-null uint8\n",
      "favday_Thursday     24579 non-null uint8\n",
      "favday_Tuesday      24579 non-null uint8\n",
      "favday_Wednesday    24579 non-null uint8\n",
      "city_BWI            24579 non-null uint8\n",
      "city_CHO            24579 non-null uint8\n",
      "city_DCX            24579 non-null uint8\n",
      "city_RIC            24579 non-null uint8\n",
      "dtypes: float64(4), int64(4), uint8(11)\n",
      "memory usage: 1.8 MB\n"
     ]
    }
   ],
   "source": [
    "one_hot_train_df.info()"
   ]
  },
  {
   "cell_type": "code",
   "execution_count": 28,
   "metadata": {},
   "outputs": [],
   "source": [
    " rf = RandomForestClassifier()\n",
    "rf.fit(one_hot_train_df, train_labels)\n",
    "rf_train_pred = rf.predict(one_hot_train_df)\n",
    "rf_test_pred = rf.predict(one_hot_test_df)"
   ]
  },
  {
   "cell_type": "code",
   "execution_count": 30,
   "metadata": {},
   "outputs": [
    {
     "name": "stdout",
     "output_type": "stream",
     "text": [
      "Classification Report: Random Forest (Training)\n",
      "             precision    recall  f1-score   support\n",
      "\n",
      "          0       0.99      0.99      0.99      5042\n",
      "          1       1.00      1.00      1.00     19537\n",
      "\n",
      "avg / total       1.00      1.00      1.00     24579\n",
      "\n",
      "Classification Report: Random Forest (Testing)\n",
      "             precision    recall  f1-score   support\n",
      "\n",
      "          0       0.91      0.85      0.88      1287\n",
      "          1       0.96      0.98      0.97      4935\n",
      "\n",
      "avg / total       0.95      0.95      0.95      6222\n",
      "\n"
     ]
    }
   ],
   "source": [
    "print(\"Classification Report: Random Forest (Training)\")\n",
    "print(classification_report(train_labels, rf_train_pred))\n",
    "\n",
    "print(\"Classification Report: Random Forest (Testing)\")\n",
    "print(classification_report(test_labels, rf_test_pred))"
   ]
  },
  {
   "cell_type": "code",
   "execution_count": 32,
   "metadata": {},
   "outputs": [],
   "source": [
    "lr = LogisticRegression()\n",
    "lr.fit(one_hot_train_df, train_labels)\n",
    "lr_train_preds = lr.predict(one_hot_train_df)\n",
    "lr_test_preds = lr.predict(one_hot_test_df)"
   ]
  },
  {
   "cell_type": "code",
   "execution_count": 33,
   "metadata": {},
   "outputs": [
    {
     "name": "stdout",
     "output_type": "stream",
     "text": [
      "Classification Report: Logistic Regression (Training)\n",
      "             precision    recall  f1-score   support\n",
      "\n",
      "          0       0.88      0.83      0.85      5042\n",
      "          1       0.96      0.97      0.96     19537\n",
      "\n",
      "avg / total       0.94      0.94      0.94     24579\n",
      "\n",
      "Classification Report: Logistic Regression (Testing)\n",
      "             precision    recall  f1-score   support\n",
      "\n",
      "          0       0.88      0.83      0.86      1287\n",
      "          1       0.96      0.97      0.96      4935\n",
      "\n",
      "avg / total       0.94      0.94      0.94      6222\n",
      "\n"
     ]
    }
   ],
   "source": [
    "print(\"Classification Report: Logistic Regression (Training)\")\n",
    "print(classification_report(train_labels, lr_train_preds))\n",
    "\n",
    "print(\"Classification Report: Logistic Regression (Testing)\")\n",
    "print(classification_report(test_labels, lr_test_preds))"
   ]
  },
  {
   "cell_type": "code",
   "execution_count": 35,
   "metadata": {},
   "outputs": [],
   "source": [
    "model = Sequential()\n",
    "model.add(Dense(32, activation='relu', input_shape=(19,)))\n",
    "model.add(Dense(1, activation='sigmoid'))"
   ]
  },
  {
   "cell_type": "code",
   "execution_count": 39,
   "metadata": {},
   "outputs": [],
   "source": [
    "model.compile(loss='binary_crossentropy', optimizer='adam', metrics=['accuracy'])"
   ]
  },
  {
   "cell_type": "code",
   "execution_count": 42,
   "metadata": {},
   "outputs": [
    {
     "name": "stdout",
     "output_type": "stream",
     "text": [
      "Train on 24579 samples, validate on 6222 samples\n",
      "Epoch 1/20\n",
      "24579/24579 [==============================] - 2s 93us/step - loss: 0.1412 - acc: 0.9493 - val_loss: 0.1421 - val_acc: 0.9495\n",
      "Epoch 2/20\n",
      "24579/24579 [==============================] - 2s 96us/step - loss: 0.1408 - acc: 0.9502 - val_loss: 0.1463 - val_acc: 0.9495\n",
      "Epoch 3/20\n",
      "24579/24579 [==============================] - 2s 92us/step - loss: 0.1422 - acc: 0.9480 - val_loss: 0.1453 - val_acc: 0.9471\n",
      "Epoch 4/20\n",
      "24579/24579 [==============================] - 2s 92us/step - loss: 0.1408 - acc: 0.9495 - val_loss: 0.1496 - val_acc: 0.9470\n",
      "Epoch 5/20\n",
      "24579/24579 [==============================] - 2s 92us/step - loss: 0.1406 - acc: 0.9494 - val_loss: 0.1448 - val_acc: 0.9505\n",
      "Epoch 6/20\n",
      "24579/24579 [==============================] - 2s 93us/step - loss: 0.1401 - acc: 0.9494 - val_loss: 0.1487 - val_acc: 0.9484\n",
      "Epoch 7/20\n",
      "24579/24579 [==============================] - 2s 95us/step - loss: 0.1407 - acc: 0.9496 - val_loss: 0.1436 - val_acc: 0.9484\n",
      "Epoch 8/20\n",
      "24579/24579 [==============================] - 2s 92us/step - loss: 0.1385 - acc: 0.9499 - val_loss: 0.1419 - val_acc: 0.9510\n",
      "Epoch 9/20\n",
      "24579/24579 [==============================] - 2s 92us/step - loss: 0.1395 - acc: 0.9497 - val_loss: 0.1430 - val_acc: 0.9479\n",
      "Epoch 10/20\n",
      "24579/24579 [==============================] - 2s 94us/step - loss: 0.1399 - acc: 0.9498 - val_loss: 0.1408 - val_acc: 0.9507\n",
      "Epoch 11/20\n",
      "24579/24579 [==============================] - 2s 96us/step - loss: 0.1381 - acc: 0.9493 - val_loss: 0.1465 - val_acc: 0.9478\n",
      "Epoch 12/20\n",
      "24579/24579 [==============================] - 2s 93us/step - loss: 0.1386 - acc: 0.9511 - val_loss: 0.1398 - val_acc: 0.9491\n",
      "Epoch 13/20\n",
      "24579/24579 [==============================] - 2s 93us/step - loss: 0.1381 - acc: 0.9504 - val_loss: 0.1510 - val_acc: 0.9466\n",
      "Epoch 14/20\n",
      "24579/24579 [==============================] - 2s 97us/step - loss: 0.1387 - acc: 0.9494 - val_loss: 0.1402 - val_acc: 0.9492\n",
      "Epoch 15/20\n",
      "24579/24579 [==============================] - 2s 96us/step - loss: 0.1365 - acc: 0.9504 - val_loss: 0.1593 - val_acc: 0.9470\n",
      "Epoch 16/20\n",
      "24579/24579 [==============================] - 2s 93us/step - loss: 0.1367 - acc: 0.9501 - val_loss: 0.1554 - val_acc: 0.9423\n",
      "Epoch 17/20\n",
      "24579/24579 [==============================] - 2s 94us/step - loss: 0.1358 - acc: 0.9505 - val_loss: 0.1372 - val_acc: 0.9503\n",
      "Epoch 18/20\n",
      "24579/24579 [==============================] - 2s 93us/step - loss: 0.1361 - acc: 0.9502 - val_loss: 0.1383 - val_acc: 0.9497\n",
      "Epoch 19/20\n",
      "24579/24579 [==============================] - 2s 96us/step - loss: 0.1353 - acc: 0.9513 - val_loss: 0.1397 - val_acc: 0.9507\n",
      "Epoch 20/20\n",
      "24579/24579 [==============================] - 2s 95us/step - loss: 0.1350 - acc: 0.9514 - val_loss: 0.1369 - val_acc: 0.9491\n"
     ]
    }
   ],
   "source": [
    "history = model.fit(one_hot_train_df, train_labels, epochs=20, verbose=1, validation_data=(one_hot_test_df, test_labels))"
   ]
  },
  {
   "cell_type": "code",
   "execution_count": 46,
   "metadata": {},
   "outputs": [],
   "source": [
    "history = history.history"
   ]
  },
  {
   "cell_type": "code",
   "execution_count": 47,
   "metadata": {},
   "outputs": [
    {
     "data": {
      "text/plain": [
       "dict_keys(['val_loss', 'val_acc', 'loss', 'acc'])"
      ]
     },
     "execution_count": 47,
     "metadata": {},
     "output_type": "execute_result"
    }
   ],
   "source": [
    "history.keys()"
   ]
  },
  {
   "cell_type": "code",
   "execution_count": 48,
   "metadata": {},
   "outputs": [],
   "source": [
    "epochs = [i for i in range (1, 21)]"
   ]
  },
  {
   "cell_type": "code",
   "execution_count": 53,
   "metadata": {},
   "outputs": [
    {
     "data": {
      "image/png": "[encoded data removed]",
      "text/plain": [
       "<matplotlib.figure.Figure at 0x1f057810358>"
      ]
     },
     "metadata": {},
     "output_type": "display_data"
    }
   ],
   "source": [
    "plt.figure()\n",
    "plt.title('Training and Validation Loss by Epoch')\n",
    "plt.plot(epochs, history['val_loss'])\n",
    "plt.plot(epochs, history['loss'])\n",
    "plt.legend(['val_loss', 'loss'])\n",
    "plt.ylabel('Loss')\n",
    "plt.xticks(epochs)\n",
    "plt.show()"
   ]
  },
  {
   "cell_type": "code",
   "execution_count": 54,
   "metadata": {},
   "outputs": [
    {
     "data": {
      "image/png": "[encoded data removed]",
      "text/plain": [
       "<matplotlib.figure.Figure at 0x1f0571f4a90>"
      ]
     },
     "metadata": {},
     "output_type": "display_data"
    }
   ],
   "source": [
    "plt.figure()\n",
    "plt.title('Training and Validation Accuracy by Epoch')\n",
    "plt.plot(epochs, history['val_acc'])\n",
    "plt.plot(epochs, history['acc'])\n",
    "plt.legend(['val_acc', 'acc'])\n",
    "plt.ylabel('Accuracy')\n",
    "plt.xticks(epochs)\n",
    "plt.show()"
   ]
  },
  {
   "cell_type": "code",
   "execution_count": 55,
   "metadata": {},
   "outputs": [],
   "source": [
    "from sklearn.svm import SVC"
   ]
  },
  {
   "cell_type": "code",
   "execution_count": 56,
   "metadata": {},
   "outputs": [],
   "source": [
    "svc = SVC()\n",
    "svc.fit(one_hot_train_df, train_labels)\n",
    "svc_train_preds = svc.predict(one_hot_train_df)\n",
    "svc_test_preds = svc.predict(one_hot_test_df)"
   ]
  },
  {
   "cell_type": "code",
   "execution_count": 57,
   "metadata": {},
   "outputs": [
    {
     "name": "stdout",
     "output_type": "stream",
     "text": [
      "Classification Report: Support Vector Machine (Training)\n",
      "             precision    recall  f1-score   support\n",
      "\n",
      "          0       0.98      0.87      0.92      5042\n",
      "          1       0.97      1.00      0.98     19537\n",
      "\n",
      "avg / total       0.97      0.97      0.97     24579\n",
      "\n",
      "Classification Report: Support Vector Machine (Testing)\n",
      "             precision    recall  f1-score   support\n",
      "\n",
      "          0       0.95      0.76      0.84      1287\n",
      "          1       0.94      0.99      0.96      4935\n",
      "\n",
      "avg / total       0.94      0.94      0.94      6222\n",
      "\n"
     ]
    }
   ],
   "source": [
    "print(\"Classification Report: Support Vector Machine (Training)\")\n",
    "print(classification_report(train_labels, svc_train_preds))\n",
    "\n",
    "print(\"Classification Report: Support Vector Machine (Testing)\")\n",
    "print(classification_report(test_labels, svc_test_preds))"
   ]
  },
  {
   "cell_type": "code",
   "execution_count": null,
   "metadata": {},
   "outputs": [],
   "source": []
  }
 ],
 "metadata": {
  "kernelspec": {
   "display_name": "Python 3",
   "language": "python",
   "name": "python3"
  },
  "language_info": {
   "codemirror_mode": {
    "name": "ipython",
    "version": 3
   },
   "file_extension": ".py",
   "mimetype": "text/x-python",
   "name": "python",
   "nbconvert_exporter": "python",
   "pygments_lexer": "ipython3",
   "version": "3.6.5"
  }
 },
 "nbformat": 4,
 "nbformat_minor": 2
}
