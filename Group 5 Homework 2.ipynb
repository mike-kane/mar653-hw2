{
 "cells": [
  {
   "cell_type": "code",
   "execution_count": 1,
   "metadata": {},
   "outputs": [
    {
     "name": "stderr",
     "output_type": "stream",
     "text": [
      "Using TensorFlow backend.\n"
     ]
    }
   ],
   "source": [
    "import pandas as pd\n",
    "pd.options.display.max_columns = 100\n",
    "import numpy as np\n",
    "import matplotlib.pyplot as plt\n",
    "%matplotlib inline\n",
    "from sklearn.linear_model import LogisticRegression\n",
    "from sklearn.ensemble import RandomForestClassifier, GradientBoostingClassifier\n",
    "from sklearn.metrics import accuracy_score, f1_score, classification_report\n",
    "from sklearn.preprocessing import StandardScaler\n",
    "import keras\n",
    "from keras.models import Sequential\n",
    "from keras.layers import Dense"
   ]
  },
  {
   "cell_type": "code",
   "execution_count": 2,
   "metadata": {},
   "outputs": [
    {
     "data": {
      "text/html": [
       "<div>\n",
       "<style scoped>\n",
       "    .dataframe tbody tr th:only-of-type {\n",
       "        vertical-align: middle;\n",
       "    }\n",
       "\n",
       "    .dataframe tbody tr th {\n",
       "        vertical-align: top;\n",
       "    }\n",
       "\n",
       "    .dataframe thead th {\n",
       "        text-align: right;\n",
       "    }\n",
       "</style>\n",
       "<table border=\"1\" class=\"dataframe\">\n",
       "  <thead>\n",
       "    <tr style=\"text-align: right;\">\n",
       "      <th></th>\n",
       "      <th>custid</th>\n",
       "      <th>retained</th>\n",
       "      <th>created</th>\n",
       "      <th>firstorder</th>\n",
       "      <th>lastorder</th>\n",
       "      <th>esent</th>\n",
       "      <th>eopenrate</th>\n",
       "      <th>eclickrate</th>\n",
       "      <th>avgorder</th>\n",
       "      <th>ordfreq</th>\n",
       "      <th>paperless</th>\n",
       "      <th>refill</th>\n",
       "      <th>doorstep</th>\n",
       "      <th>train</th>\n",
       "      <th>favday</th>\n",
       "      <th>city</th>\n",
       "    </tr>\n",
       "  </thead>\n",
       "  <tbody>\n",
       "    <tr>\n",
       "      <th>0</th>\n",
       "      <td>6H6T6N</td>\n",
       "      <td>0</td>\n",
       "      <td>2012-09-28</td>\n",
       "      <td>2013-08-11 00:00:00</td>\n",
       "      <td>2013-08-11 00:00:00</td>\n",
       "      <td>29</td>\n",
       "      <td>100.000000</td>\n",
       "      <td>3.448276</td>\n",
       "      <td>14.52</td>\n",
       "      <td>0.000000</td>\n",
       "      <td>0</td>\n",
       "      <td>0</td>\n",
       "      <td>0</td>\n",
       "      <td>1</td>\n",
       "      <td>Monday</td>\n",
       "      <td>CHO</td>\n",
       "    </tr>\n",
       "    <tr>\n",
       "      <th>1</th>\n",
       "      <td>APCENR</td>\n",
       "      <td>1</td>\n",
       "      <td>2010-12-19</td>\n",
       "      <td>2011-04-01 00:00:00</td>\n",
       "      <td>2014-01-19 00:00:00</td>\n",
       "      <td>95</td>\n",
       "      <td>92.631579</td>\n",
       "      <td>10.526316</td>\n",
       "      <td>83.69</td>\n",
       "      <td>0.181641</td>\n",
       "      <td>1</td>\n",
       "      <td>1</td>\n",
       "      <td>1</td>\n",
       "      <td>1</td>\n",
       "      <td>Friday</td>\n",
       "      <td>CHO</td>\n",
       "    </tr>\n",
       "    <tr>\n",
       "      <th>2</th>\n",
       "      <td>7UP6MS</td>\n",
       "      <td>0</td>\n",
       "      <td>2010-10-03</td>\n",
       "      <td>2010-12-01 00:00:00</td>\n",
       "      <td>2011-07-06 00:00:00</td>\n",
       "      <td>0</td>\n",
       "      <td>0.000000</td>\n",
       "      <td>0.000000</td>\n",
       "      <td>33.58</td>\n",
       "      <td>0.059908</td>\n",
       "      <td>0</td>\n",
       "      <td>0</td>\n",
       "      <td>0</td>\n",
       "      <td>1</td>\n",
       "      <td>Wednesday</td>\n",
       "      <td>CHO</td>\n",
       "    </tr>\n",
       "    <tr>\n",
       "      <th>3</th>\n",
       "      <td>7ZEW8G</td>\n",
       "      <td>0</td>\n",
       "      <td>2010-10-22</td>\n",
       "      <td>2011-03-28 00:00:00</td>\n",
       "      <td>2011-03-28 00:00:00</td>\n",
       "      <td>0</td>\n",
       "      <td>0.000000</td>\n",
       "      <td>0.000000</td>\n",
       "      <td>54.96</td>\n",
       "      <td>0.000000</td>\n",
       "      <td>0</td>\n",
       "      <td>0</td>\n",
       "      <td>0</td>\n",
       "      <td>1</td>\n",
       "      <td>Thursday</td>\n",
       "      <td>RIC</td>\n",
       "    </tr>\n",
       "    <tr>\n",
       "      <th>4</th>\n",
       "      <td>8V726M</td>\n",
       "      <td>1</td>\n",
       "      <td>2010-11-27</td>\n",
       "      <td>2010-11-29 00:00:00</td>\n",
       "      <td>2013-01-28 00:00:00</td>\n",
       "      <td>30</td>\n",
       "      <td>90.000000</td>\n",
       "      <td>13.333333</td>\n",
       "      <td>111.91</td>\n",
       "      <td>0.008850</td>\n",
       "      <td>0</td>\n",
       "      <td>0</td>\n",
       "      <td>0</td>\n",
       "      <td>1</td>\n",
       "      <td>Monday</td>\n",
       "      <td>RIC</td>\n",
       "    </tr>\n",
       "  </tbody>\n",
       "</table>\n",
       "</div>"
      ],
      "text/plain": [
       "   custid  retained    created           firstorder            lastorder  \\\n",
       "0  6H6T6N         0 2012-09-28  2013-08-11 00:00:00  2013-08-11 00:00:00   \n",
       "1  APCENR         1 2010-12-19  2011-04-01 00:00:00  2014-01-19 00:00:00   \n",
       "2  7UP6MS         0 2010-10-03  2010-12-01 00:00:00  2011-07-06 00:00:00   \n",
       "3  7ZEW8G         0 2010-10-22  2011-03-28 00:00:00  2011-03-28 00:00:00   \n",
       "4  8V726M         1 2010-11-27  2010-11-29 00:00:00  2013-01-28 00:00:00   \n",
       "\n",
       "   esent   eopenrate  eclickrate  avgorder   ordfreq  paperless  refill  \\\n",
       "0     29  100.000000    3.448276     14.52  0.000000          0       0   \n",
       "1     95   92.631579   10.526316     83.69  0.181641          1       1   \n",
       "2      0    0.000000    0.000000     33.58  0.059908          0       0   \n",
       "3      0    0.000000    0.000000     54.96  0.000000          0       0   \n",
       "4     30   90.000000   13.333333    111.91  0.008850          0       0   \n",
       "\n",
       "   doorstep  train     favday city  \n",
       "0         0      1     Monday  CHO  \n",
       "1         1      1     Friday  CHO  \n",
       "2         0      1  Wednesday  CHO  \n",
       "3         0      1   Thursday  RIC  \n",
       "4         0      1     Monday  RIC  "
      ]
     },
     "execution_count": 2,
     "metadata": {},
     "output_type": "execute_result"
    }
   ],
   "source": [
    "train_df_raw = pd.read_excel('relaytrain_2_2_2_2_2.xlsx')\n",
    "test_df_raw = pd.read_excel('relaytest_2_2_2_2_2.xlsx')\n",
    "train_df_raw.head()"
   ]
  },
  {
   "cell_type": "code",
   "execution_count": 3,
   "metadata": {},
   "outputs": [],
   "source": [
    "# Store labels separately from training data\n",
    "train_labels = train_df_raw['retained']\n",
    "test_labels = test_df_raw['retained']"
   ]
  },
  {
   "cell_type": "code",
   "execution_count": 4,
   "metadata": {},
   "outputs": [],
   "source": [
    "# Remove labels from training data\n",
    "train_df = train_df_raw.drop('retained', axis=1, inplace=False)\n",
    "test_df = test_df_raw.drop('retained', axis=1, inplace=False)"
   ]
  },
  {
   "cell_type": "markdown",
   "metadata": {},
   "source": [
    "# Step 1: Data Exploration\n",
    "\n",
    "Questions:\n",
    "\n",
    "* What is the cardinality of city?\n",
    "* What is the cardinality of custid? Does custid matter (e.g. repeat customers?)\n",
    "* What is the ratio of customers retained to customers lost?\n",
    "* Which columns correlate the most with our target?\n",
    "* Is there any multicollinearity in our dataset?\n",
    "* Do the dates matter? How can we transform these so that we can use them in our model?"
   ]
  },
  {
   "cell_type": "code",
   "execution_count": 5,
   "metadata": {},
   "outputs": [
    {
     "data": {
      "text/plain": [
       "<matplotlib.axes._subplots.AxesSubplot at 0x1dd469531d0>"
      ]
     },
     "execution_count": 5,
     "metadata": {},
     "output_type": "execute_result"
    },
    {
     "data": {
      "image/png": "[encoded data removed]",
      "text/plain": [
       "<matplotlib.figure.Figure at 0x1dd4693f2b0>"
      ]
     },
     "metadata": {},
     "output_type": "display_data"
    }
   ],
   "source": [
    "train_df.city.hist()"
   ]
  },
  {
   "cell_type": "code",
   "execution_count": 6,
   "metadata": {},
   "outputs": [
    {
     "data": {
      "text/plain": [
       "<matplotlib.axes._subplots.AxesSubplot at 0x1dd46b09828>"
      ]
     },
     "execution_count": 6,
     "metadata": {},
     "output_type": "execute_result"
    },
    {
     "data": {
      "image/png": "[encoded data removed]",
      "text/plain": [
       "<matplotlib.figure.Figure at 0x1dd4015ae48>"
      ]
     },
     "metadata": {},
     "output_type": "display_data"
    }
   ],
   "source": [
    "train_labels.hist()"
   ]
  },
  {
   "cell_type": "code",
   "execution_count": 7,
   "metadata": {},
   "outputs": [
    {
     "data": {
      "text/plain": [
       "<matplotlib.axes._subplots.AxesSubplot at 0x1dd469c7ac8>"
      ]
     },
     "execution_count": 7,
     "metadata": {},
     "output_type": "execute_result"
    },
    {
     "data": {
      "image/png": "[encoded data removed]",
      "text/plain": [
       "<matplotlib.figure.Figure at 0x1dd469c6a20>"
      ]
     },
     "metadata": {},
     "output_type": "display_data"
    }
   ],
   "source": [
    "test_labels.hist()"
   ]
  },
  {
   "cell_type": "markdown",
   "metadata": {},
   "source": [
    "### Class Imbalance!\n",
    "\n",
    "Our labels have a large class imbalance. Customers lost represent only 25% of our data in both our training and testing sets. We need to balance this using stratified K-Fold Cross Validation, or through Naive Oversampling. "
   ]
  },
  {
   "cell_type": "code",
   "execution_count": 8,
   "metadata": {},
   "outputs": [
    {
     "data": {
      "text/plain": [
       "Index(['esent', 'eopenrate', 'eclickrate', 'avgorder', 'ordfreq', 'paperless',\n",
       "       'refill', 'doorstep', 'favday_Friday', 'favday_Monday',\n",
       "       'favday_Saturday', 'favday_Sunday', 'favday_Thursday', 'favday_Tuesday',\n",
       "       'favday_Wednesday', 'city_BWI', 'city_CHO', 'city_DCX', 'city_RIC'],\n",
       "      dtype='object')"
      ]
     },
     "execution_count": 8,
     "metadata": {},
     "output_type": "execute_result"
    }
   ],
   "source": [
    "one_hot_train_df = pd.get_dummies(train_df.drop(['custid', 'train', 'created', 'firstorder', 'lastorder'], axis=1))\n",
    "one_hot_test_df = pd.get_dummies(test_df.drop(['custid', 'train', 'created', 'firstorder', 'lastorder'], axis=1))\n",
    "one_hot_train_df.head()\n",
    "col_names = one_hot_train_df.columns\n",
    "col_names"
   ]
  },
  {
   "cell_type": "code",
   "execution_count": 9,
   "metadata": {},
   "outputs": [
    {
     "name": "stdout",
     "output_type": "stream",
     "text": [
      "<class 'pandas.core.frame.DataFrame'>\n",
      "RangeIndex: 24579 entries, 0 to 24578\n",
      "Data columns (total 19 columns):\n",
      "esent               24579 non-null int64\n",
      "eopenrate           24579 non-null float64\n",
      "eclickrate          24579 non-null float64\n",
      "avgorder            24579 non-null float64\n",
      "ordfreq             24579 non-null float64\n",
      "paperless           24579 non-null int64\n",
      "refill              24579 non-null int64\n",
      "doorstep            24579 non-null int64\n",
      "favday_Friday       24579 non-null uint8\n",
      "favday_Monday       24579 non-null uint8\n",
      "favday_Saturday     24579 non-null uint8\n",
      "favday_Sunday       24579 non-null uint8\n",
      "favday_Thursday     24579 non-null uint8\n",
      "favday_Tuesday      24579 non-null uint8\n",
      "favday_Wednesday    24579 non-null uint8\n",
      "city_BWI            24579 non-null uint8\n",
      "city_CHO            24579 non-null uint8\n",
      "city_DCX            24579 non-null uint8\n",
      "city_RIC            24579 non-null uint8\n",
      "dtypes: float64(4), int64(4), uint8(11)\n",
      "memory usage: 1.8 MB\n"
     ]
    }
   ],
   "source": [
    "one_hot_train_df.info()"
   ]
  },
  {
   "cell_type": "code",
   "execution_count": 10,
   "metadata": {},
   "outputs": [],
   "source": [
    "scaler = StandardScaler()\n",
    "one_hot_train_df = pd.DataFrame(scaler.fit_transform(one_hot_train_df), columns=col_names)\n",
    "one_hot_test_df = pd.DataFrame(scaler.fit_transform(one_hot_test_df), columns=col_names)"
   ]
  },
  {
   "cell_type": "code",
   "execution_count": 11,
   "metadata": {},
   "outputs": [],
   "source": [
    " rf = RandomForestClassifier()\n",
    "rf.fit(one_hot_train_df, train_labels)\n",
    "rf_train_pred = rf.predict(one_hot_train_df)\n",
    "rf_test_pred = rf.predict(one_hot_test_df)"
   ]
  },
  {
   "cell_type": "code",
   "execution_count": 12,
   "metadata": {},
   "outputs": [
    {
     "name": "stdout",
     "output_type": "stream",
     "text": [
      "Classification Report: Random Forest (Training)\n",
      "             precision    recall  f1-score   support\n",
      "\n",
      "          0       0.99      0.99      0.99      5042\n",
      "          1       1.00      1.00      1.00     19537\n",
      "\n",
      "avg / total       1.00      1.00      1.00     24579\n",
      "\n",
      "Classification Report: Random Forest (Testing)\n",
      "             precision    recall  f1-score   support\n",
      "\n",
      "          0       0.90      0.83      0.86      1287\n",
      "          1       0.96      0.98      0.97      4935\n",
      "\n",
      "avg / total       0.95      0.95      0.95      6222\n",
      "\n"
     ]
    }
   ],
   "source": [
    "print(\"Classification Report: Random Forest (Training)\")\n",
    "print(classification_report(train_labels, rf_train_pred))\n",
    "\n",
    "print(\"Classification Report: Random Forest (Testing)\")\n",
    "print(classification_report(test_labels, rf_test_pred))"
   ]
  },
  {
   "cell_type": "code",
   "execution_count": 13,
   "metadata": {},
   "outputs": [
    {
     "name": "stdout",
     "output_type": "stream",
     "text": [
      "Warning: Maximum number of iterations has been exceeded.\n",
      "         Current function value: 0.457925\n",
      "         Iterations: 35\n",
      "                         Results: Logit\n",
      "=================================================================\n",
      "Model:              Logit            Pseudo R-squared: 0.098     \n",
      "Dependent Variable: retained         AIC:              22544.6597\n",
      "Date:               2018-11-20 17:49 BIC:              22682.5237\n",
      "No. Observations:   24579            Log-Likelihood:   -11255.   \n",
      "Df Model:           16               LL-Null:          -12472.   \n",
      "Df Residuals:       24562            LLR p-value:      0.0000    \n",
      "Converged:          0.0000           Scale:            1.0000    \n",
      "No. Iterations:     35.0000                                      \n",
      "-----------------------------------------------------------------\n",
      "                  Coef.  Std.Err.    z     P>|z|   [0.025  0.975]\n",
      "-----------------------------------------------------------------\n",
      "esent             1.9753   0.0257  76.8759 0.0000  1.9249  2.0256\n",
      "eopenrate         0.3995   0.0203  19.6544 0.0000  0.3597  0.4393\n",
      "eclickrate        0.1194   0.0187   6.3794 0.0000  0.0827  0.1561\n",
      "avgorder         -0.2004   0.0196 -10.2122 0.0000 -0.2389 -0.1620\n",
      "ordfreq          -0.0651   0.0166  -3.9183 0.0001 -0.0977 -0.0325\n",
      "paperless         0.4095   0.0196  20.8959 0.0000  0.3711  0.4479\n",
      "refill            0.0897   0.0171   5.2441 0.0000  0.0562  0.1233\n",
      "doorstep          0.0501   0.0176   2.8438 0.0045  0.0156  0.0846\n",
      "favday_Friday     0.0627      nan      nan    nan     nan     nan\n",
      "favday_Monday    -0.0173      nan      nan    nan     nan     nan\n",
      "favday_Saturday  -0.0209      nan      nan    nan     nan     nan\n",
      "favday_Sunday     0.0307      nan      nan    nan     nan     nan\n",
      "favday_Thursday  -0.0177      nan      nan    nan     nan     nan\n",
      "favday_Tuesday   -0.0396      nan      nan    nan     nan     nan\n",
      "favday_Wednesday  0.0174      nan      nan    nan     nan     nan\n",
      "city_BWI          0.0530      nan      nan    nan     nan     nan\n",
      "city_CHO         -0.0378      nan      nan    nan     nan     nan\n",
      "city_DCX          0.0338      nan      nan    nan     nan     nan\n",
      "city_RIC         -0.0213      nan      nan    nan     nan     nan\n",
      "=================================================================\n",
      "\n",
      "Index(['esent', 'eopenrate', 'eclickrate', 'avgorder', 'ordfreq', 'paperless',\n",
      "       'refill', 'doorstep', 'favday_Friday', 'favday_Monday',\n",
      "       'favday_Saturday', 'favday_Sunday', 'favday_Thursday', 'favday_Tuesday',\n",
      "       'favday_Wednesday', 'city_BWI', 'city_CHO', 'city_DCX', 'city_RIC'],\n",
      "      dtype='object')\n"
     ]
    },
    {
     "name": "stderr",
     "output_type": "stream",
     "text": [
      "C:\\Users\\medio\\AppData\\Local\\Continuum\\anaconda3\\lib\\site-packages\\statsmodels\\base\\model.py:508: ConvergenceWarning: Maximum Likelihood optimization failed to converge. Check mle_retvals\n",
      "  \"Check mle_retvals\", ConvergenceWarning)\n",
      "C:\\Users\\medio\\AppData\\Local\\Continuum\\anaconda3\\lib\\site-packages\\statsmodels\\base\\model.py:1092: RuntimeWarning: invalid value encountered in sqrt\n",
      "  bse_ = np.sqrt(np.diag(self.cov_params()))\n",
      "C:\\Users\\medio\\AppData\\Local\\Continuum\\anaconda3\\lib\\site-packages\\scipy\\stats\\_distn_infrastructure.py:879: RuntimeWarning: invalid value encountered in greater\n",
      "  return (self.a < x) & (x < self.b)\n",
      "C:\\Users\\medio\\AppData\\Local\\Continuum\\anaconda3\\lib\\site-packages\\scipy\\stats\\_distn_infrastructure.py:879: RuntimeWarning: invalid value encountered in less\n",
      "  return (self.a < x) & (x < self.b)\n",
      "C:\\Users\\medio\\AppData\\Local\\Continuum\\anaconda3\\lib\\site-packages\\scipy\\stats\\_distn_infrastructure.py:1821: RuntimeWarning: invalid value encountered in less_equal\n",
      "  cond2 = cond0 & (x <= self.a)\n"
     ]
    }
   ],
   "source": [
    "import statsmodels.api as sm\n",
    "logit_model=sm.Logit(train_labels, one_hot_train_df)\n",
    "result=logit_model.fit()\n",
    "print(result.summary2())\n",
    "print(one_hot_train_df.columns)"
   ]
  },
  {
   "cell_type": "code",
   "execution_count": 16,
   "metadata": {},
   "outputs": [
    {
     "name": "stdout",
     "output_type": "stream",
     "text": [
      "[ True  True  True  True False  True  True  True  True False False  True\n",
      " False False False  True False False False]\n",
      "[ 1  1  1  1  2  1  1  1  1  6 10  1  9  5  7  1  8  4  3]\n"
     ]
    }
   ],
   "source": [
    "from sklearn.feature_selection import RFE\n",
    "from sklearn.linear_model import LogisticRegression\n",
    "logreg = LogisticRegression()\n",
    "rfe = RFE(logreg, 10)\n",
    "rfe = rfe.fit(one_hot_train_df, train_labels)\n",
    "print(rfe.support_)\n",
    "print(rfe.ranking_)\n",
    "lr_train_preds = rfe.predict(one_hot_train_df)\n",
    "lr_test_preds = rfe.predict(one_hot_test_df)"
   ]
  },
  {
   "cell_type": "code",
   "execution_count": 17,
   "metadata": {},
   "outputs": [
    {
     "name": "stdout",
     "output_type": "stream",
     "text": [
      "Classification Report: Logistic Regression (Training)\n",
      "             precision    recall  f1-score   support\n",
      "\n",
      "          0       0.88      0.83      0.85      5042\n",
      "          1       0.96      0.97      0.96     19537\n",
      "\n",
      "avg / total       0.94      0.94      0.94     24579\n",
      "\n",
      "Classification Report: Logistic Regression (Testing)\n",
      "             precision    recall  f1-score   support\n",
      "\n",
      "          0       0.89      0.83      0.86      1287\n",
      "          1       0.96      0.97      0.96      4935\n",
      "\n",
      "avg / total       0.94      0.94      0.94      6222\n",
      "\n"
     ]
    }
   ],
   "source": [
    "print(\"Classification Report: Logistic Regression (Training)\")\n",
    "print(classification_report(train_labels, lr_train_preds))\n",
    "\n",
    "print(\"Classification Report: Logistic Regression (Testing)\")\n",
    "print(classification_report(test_labels, lr_test_preds))"
   ]
  },
  {
   "cell_type": "code",
   "execution_count": 53,
   "metadata": {},
   "outputs": [],
   "source": [
    "from sklearn.metrics import confusion_matrix\n",
    "import itertools\n",
    "\n",
    "def show_cf(y_true, y_pred, model_name):\n",
    "    cf = confusion_matrix(y_true, y_pred)\n",
    "    plt.imshow(cf, cmap=plt.cm.Blues)\n",
    "    \n",
    "    plt.title(\"Confusion Matrix: {}\".format(model_name))\n",
    "    plt.ylabel('True Label')\n",
    "    plt.xlabel('Predicted Label')\n",
    "    \n",
    "    class_names = set(test_labels)\n",
    "    tick_marks = np.arange(len(class_names))\n",
    "    plt.xticks(tick_marks, class_names)\n",
    "    plt.yticks(tick_marks, class_names)\n",
    "    \n",
    "    thresh = cf.max() / 2.\n",
    "    \n",
    "    for i, j in itertools.product(range(cf.shape[0]), range(cf.shape[1])):\n",
    "        plt.text(j, i, cf[i, j], horizontalalignment='center', color='white' if cf[i, j] > thresh else 'black')\n",
    "\n",
    "    plt.colorbar()"
   ]
  },
  {
   "cell_type": "code",
   "execution_count": 26,
   "metadata": {},
   "outputs": [],
   "source": [
    "model = Sequential()\n",
    "model.add(Dense(32, activation='relu', input_shape=(19,)))\n",
    "model.add(keras.layers.Dropout(0.5))\n",
    "model.add(Dense(1, activation='sigmoid'))"
   ]
  },
  {
   "cell_type": "code",
   "execution_count": 27,
   "metadata": {},
   "outputs": [],
   "source": [
    "model.compile(loss='binary_crossentropy', optimizer='adam', metrics=['accuracy'])"
   ]
  },
  {
   "cell_type": "code",
   "execution_count": 28,
   "metadata": {},
   "outputs": [
    {
     "name": "stdout",
     "output_type": "stream",
     "text": [
      "Train on 24579 samples, validate on 6222 samples\n",
      "Epoch 1/20\n",
      "24579/24579 [==============================] - 6s 226us/step - loss: 0.3415 - acc: 0.8532 - val_loss: 0.1875 - val_acc: 0.9396\n",
      "Epoch 2/20\n",
      "24579/24579 [==============================] - 2s 96us/step - loss: 0.2071 - acc: 0.9234 - val_loss: 0.1749 - val_acc: 0.9433\n",
      "Epoch 3/20\n",
      "24579/24579 [==============================] - 2s 94us/step - loss: 0.1935 - acc: 0.9307 - val_loss: 0.1692 - val_acc: 0.9458\n",
      "Epoch 4/20\n",
      "24579/24579 [==============================] - 2s 93us/step - loss: 0.1866 - acc: 0.9345 - val_loss: 0.1675 - val_acc: 0.9457\n",
      "Epoch 5/20\n",
      "24579/24579 [==============================] - 2s 93us/step - loss: 0.1794 - acc: 0.9389 - val_loss: 0.1635 - val_acc: 0.9466\n",
      "Epoch 6/20\n",
      "24579/24579 [==============================] - 2s 94us/step - loss: 0.1732 - acc: 0.9421 - val_loss: 0.1579 - val_acc: 0.9473\n",
      "Epoch 7/20\n",
      "24579/24579 [==============================] - 2s 97us/step - loss: 0.1675 - acc: 0.9430 - val_loss: 0.1551 - val_acc: 0.9491\n",
      "Epoch 8/20\n",
      "24579/24579 [==============================] - 2s 95us/step - loss: 0.1622 - acc: 0.9460 - val_loss: 0.1524 - val_acc: 0.9482\n",
      "Epoch 9/20\n",
      "24579/24579 [==============================] - 2s 93us/step - loss: 0.1603 - acc: 0.9466 - val_loss: 0.1510 - val_acc: 0.9476\n",
      "Epoch 10/20\n",
      "24579/24579 [==============================] - 2s 94us/step - loss: 0.1581 - acc: 0.9469 - val_loss: 0.1495 - val_acc: 0.9489\n",
      "Epoch 11/20\n",
      "24579/24579 [==============================] - 2s 94us/step - loss: 0.1563 - acc: 0.9486 - val_loss: 0.1483 - val_acc: 0.9479\n",
      "Epoch 12/20\n",
      "24579/24579 [==============================] - 2s 94us/step - loss: 0.1538 - acc: 0.9474 - val_loss: 0.1487 - val_acc: 0.9479\n",
      "Epoch 13/20\n",
      "24579/24579 [==============================] - 2s 96us/step - loss: 0.1534 - acc: 0.9487 - val_loss: 0.1473 - val_acc: 0.9481\n",
      "Epoch 14/20\n",
      "24579/24579 [==============================] - 2s 97us/step - loss: 0.1523 - acc: 0.9482 - val_loss: 0.1463 - val_acc: 0.9502\n",
      "Epoch 15/20\n",
      "24579/24579 [==============================] - 2s 95us/step - loss: 0.1498 - acc: 0.9480 - val_loss: 0.1463 - val_acc: 0.9489\n",
      "Epoch 16/20\n",
      "24579/24579 [==============================] - 2s 95us/step - loss: 0.1489 - acc: 0.9492 - val_loss: 0.1462 - val_acc: 0.9489\n",
      "Epoch 17/20\n",
      "24579/24579 [==============================] - 2s 94us/step - loss: 0.1506 - acc: 0.9481 - val_loss: 0.1452 - val_acc: 0.9497\n",
      "Epoch 18/20\n",
      "24579/24579 [==============================] - 2s 95us/step - loss: 0.1477 - acc: 0.9483 - val_loss: 0.1457 - val_acc: 0.9495\n",
      "Epoch 19/20\n",
      "24579/24579 [==============================] - 2s 96us/step - loss: 0.1496 - acc: 0.9487 - val_loss: 0.1462 - val_acc: 0.9484\n",
      "Epoch 20/20\n",
      "24579/24579 [==============================] - 2s 94us/step - loss: 0.1494 - acc: 0.9472 - val_loss: 0.1465 - val_acc: 0.9491\n"
     ]
    }
   ],
   "source": [
    "history = model.fit(one_hot_train_df, train_labels, epochs=20, verbose=1, validation_data=(one_hot_test_df, test_labels))"
   ]
  },
  {
   "cell_type": "code",
   "execution_count": 51,
   "metadata": {},
   "outputs": [],
   "source": [
    "nn_test_preds = model.predict_classes(one_hot_test_df)"
   ]
  },
  {
   "cell_type": "code",
   "execution_count": 29,
   "metadata": {},
   "outputs": [],
   "source": [
    "history = history.history"
   ]
  },
  {
   "cell_type": "code",
   "execution_count": 30,
   "metadata": {},
   "outputs": [
    {
     "data": {
      "text/plain": [
       "dict_keys(['val_loss', 'val_acc', 'loss', 'acc'])"
      ]
     },
     "execution_count": 30,
     "metadata": {},
     "output_type": "execute_result"
    }
   ],
   "source": [
    "history.keys()"
   ]
  },
  {
   "cell_type": "code",
   "execution_count": 31,
   "metadata": {},
   "outputs": [],
   "source": [
    "epochs = [i for i in range (1, 21)]"
   ]
  },
  {
   "cell_type": "code",
   "execution_count": 32,
   "metadata": {},
   "outputs": [
    {
     "data": {
      "image/png": "[encoded data removed]",
      "text/plain": [
       "<matplotlib.figure.Figure at 0x1dd47e9c7f0>"
      ]
     },
     "metadata": {},
     "output_type": "display_data"
    }
   ],
   "source": [
    "plt.figure()\n",
    "plt.title('Training and Validation Loss by Epoch')\n",
    "plt.plot(epochs, history['val_loss'])\n",
    "plt.plot(epochs, history['loss'])\n",
    "plt.legend(['val_loss', 'loss'])\n",
    "plt.ylabel('Loss')\n",
    "plt.xticks(epochs)\n",
    "plt.show()"
   ]
  },
  {
   "cell_type": "code",
   "execution_count": 33,
   "metadata": {},
   "outputs": [
    {
     "data": {
      "image/png": "[encoded data removed]",
      "text/plain": [
       "<matplotlib.figure.Figure at 0x1dd47e35c50>"
      ]
     },
     "metadata": {},
     "output_type": "display_data"
    }
   ],
   "source": [
    "plt.figure()\n",
    "plt.title('Training and Validation Accuracy by Epoch')\n",
    "plt.plot(epochs, history['val_acc'])\n",
    "plt.plot(epochs, history['acc'])\n",
    "plt.legend(['val_acc', 'acc'])\n",
    "plt.ylabel('Accuracy')\n",
    "plt.xticks(epochs)\n",
    "plt.show()"
   ]
  },
  {
   "cell_type": "code",
   "execution_count": 34,
   "metadata": {},
   "outputs": [],
   "source": [
    "from sklearn.svm import SVC"
   ]
  },
  {
   "cell_type": "code",
   "execution_count": 35,
   "metadata": {},
   "outputs": [],
   "source": [
    "svc = SVC()\n",
    "svc.fit(one_hot_train_df, train_labels)\n",
    "svc_train_preds = svc.predict(one_hot_train_df)\n",
    "svc_test_preds = svc.predict(one_hot_test_df)"
   ]
  },
  {
   "cell_type": "code",
   "execution_count": 36,
   "metadata": {},
   "outputs": [
    {
     "name": "stdout",
     "output_type": "stream",
     "text": [
      "Classification Report: Support Vector Machine (Training)\n",
      "             precision    recall  f1-score   support\n",
      "\n",
      "          0       0.93      0.81      0.87      5042\n",
      "          1       0.95      0.99      0.97     19537\n",
      "\n",
      "avg / total       0.95      0.95      0.95     24579\n",
      "\n",
      "Classification Report: Support Vector Machine (Testing)\n",
      "             precision    recall  f1-score   support\n",
      "\n",
      "          0       0.93      0.79      0.85      1287\n",
      "          1       0.95      0.98      0.97      4935\n",
      "\n",
      "avg / total       0.94      0.94      0.94      6222\n",
      "\n"
     ]
    }
   ],
   "source": [
    "print(\"Classification Report: Support Vector Machine (Training)\")\n",
    "print(classification_report(train_labels, svc_train_preds))\n",
    "\n",
    "print(\"Classification Report: Support Vector Machine (Testing)\")\n",
    "print(classification_report(test_labels, svc_test_preds))"
   ]
  },
  {
   "cell_type": "markdown",
   "metadata": {},
   "source": [
    "# TODO\n",
    "\n",
    "Histogram of model statistics \n",
    "\n",
    "Brief write-up of each step\n",
    "\n",
    "Recommended improvements\n",
    "\n",
    "Explore logistic regression coefficients"
   ]
  },
  {
   "cell_type": "code",
   "execution_count": 54,
   "metadata": {},
   "outputs": [
    {
     "data": {
      "image/png": "[encoded data removed]",
      "text/plain": [
       "<matplotlib.figure.Figure at 0x1dd473c04e0>"
      ]
     },
     "metadata": {},
     "output_type": "display_data"
    }
   ],
   "source": [
    "show_cf(test_labels, lr_test_preds, \"Logistic Regression\")"
   ]
  },
  {
   "cell_type": "code",
   "execution_count": 43,
   "metadata": {},
   "outputs": [
    {
     "data": {
      "image/png": "[encoded data removed]",
      "text/plain": [
       "<matplotlib.figure.Figure at 0x1dd4be85cf8>"
      ]
     },
     "metadata": {},
     "output_type": "display_data"
    }
   ],
   "source": [
    "show_cf(test_labels, svc_test_preds, \"Support Vector Machine\")"
   ]
  },
  {
   "cell_type": "code",
   "execution_count": 46,
   "metadata": {},
   "outputs": [
    {
     "data": {
      "image/png": "[encoded data removed]",
      "text/plain": [
       "<matplotlib.figure.Figure at 0x1dd4831b978>"
      ]
     },
     "metadata": {},
     "output_type": "display_data"
    }
   ],
   "source": [
    "show_cf(test_labels, rf_test_pred, \"Random Forest\")"
   ]
  },
  {
   "cell_type": "code",
   "execution_count": 52,
   "metadata": {},
   "outputs": [
    {
     "data": {
      "image/png": "[encoded data removed]",
      "text/plain": [
       "<matplotlib.figure.Figure at 0x1dd47e0c8d0>"
      ]
     },
     "metadata": {},
     "output_type": "display_data"
    }
   ],
   "source": [
    "show_cf(test_labels, nn_test_preds, \"Neural Network\")"
   ]
  },
  {
   "cell_type": "code",
   "execution_count": 63,
   "metadata": {},
   "outputs": [],
   "source": [
    "from sklearn.metrics import precision_score, recall_score, accuracy_score, f1_score\n",
    "\n",
    "def model_stats(y_true, y_pred, model_name):\n",
    "    print('-'*40)\n",
    "    print(\"Model Performance Statistics on Test Set for {}\".format(model_name))\n",
    "    \n",
    "    precision = precision_score(y_true, y_pred)\n",
    "    recall = recall_score(y_true, y_pred)\n",
    "    accuracy = accuracy_score(y_true, y_pred)\n",
    "    f1 = f1_score(y_true, y_pred)\n",
    "    \n",
    "    print(\"Precision: {:.4f}%\".format(precision * 100))\n",
    "    print(\"Recall: {:.4f}%\".format(recall * 100))\n",
    "    print(\"Accuracy: {:.4f}%\".format(accuracy * 100))\n",
    "    print(\"F1 Score: {:.4f}%\".format(f1 * 100))\n",
    "    \n",
    "    "
   ]
  },
  {
   "cell_type": "code",
   "execution_count": 64,
   "metadata": {},
   "outputs": [
    {
     "name": "stdout",
     "output_type": "stream",
     "text": [
      "----------------------------------------\n",
      "Model Performance Statistics on Test Set for Logistic Regression\n",
      "Precision: 95.5821%\n",
      "Recall: 97.3252%\n",
      "Accuracy: 94.3105%\n",
      "F1 Score: 96.4458%\n",
      "----------------------------------------\n",
      "Model Performance Statistics on Test Set for Random Forest\n",
      "Precision: 95.6720%\n",
      "Recall: 97.6494%\n",
      "Accuracy: 94.6320%\n",
      "F1 Score: 96.6506%\n",
      "----------------------------------------\n",
      "Model Performance Statistics on Test Set for Support Vector Machine\n",
      "Precision: 94.6599%\n",
      "Recall: 98.4195%\n",
      "Accuracy: 94.3427%\n",
      "F1 Score: 96.5031%\n",
      "----------------------------------------\n",
      "Model Performance Statistics on Test Set for Neural Network\n",
      "Precision: 94.5753%\n",
      "Recall: 99.2705%\n",
      "Accuracy: 94.9052%\n",
      "F1 Score: 96.8660%\n"
     ]
    }
   ],
   "source": [
    "results = [lr_test_preds, rf_test_pred, svc_test_preds, nn_test_preds]\n",
    "model_names = ['Logistic Regression', \"Random Forest\", \"Support Vector Machine\", \"Neural Network\"]\n",
    "for ind, val in enumerate(results):\n",
    "    model_stats(test_labels, results[ind], model_names[ind])"
   ]
  },
  {
   "cell_type": "markdown",
   "metadata": {},
   "source": []
  }
 ],
 "metadata": {
  "kernelspec": {
   "display_name": "Python 3",
   "language": "python",
   "name": "python3"
  },
  "language_info": {
   "codemirror_mode": {
    "name": "ipython",
    "version": 3
   },
   "file_extension": ".py",
   "mimetype": "text/x-python",
   "name": "python",
   "nbconvert_exporter": "python",
   "pygments_lexer": "ipython3",
   "version": "3.6.5"
  }
 },
 "nbformat": 4,
 "nbformat_minor": 2
}
